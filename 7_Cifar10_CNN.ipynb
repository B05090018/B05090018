{
  "nbformat": 4,
  "nbformat_minor": 0,
  "metadata": {
    "colab": {
      "name": "7.Cifar10_CNN.ipynb",
      "provenance": []
    },
    "kernelspec": {
      "name": "python3",
      "display_name": "Python 3"
    }
  },
  "cells": [
    {
      "cell_type": "code",
      "metadata": {
        "id": "VHSCR_RRH1u2",
        "colab_type": "code",
        "colab": {
          "base_uri": "https://localhost:8080/",
          "height": 1000
        },
        "outputId": "81616cd7-53b1-44a3-c7bd-73a5103f1696"
      },
      "source": [
        "from keras.datasets import cifar10\n",
        "\n",
        "(x_train, y_train_), (x_test, y_test_) = cifar10.load_data()\n",
        "\n",
        "x_train = x_train.astype('float32') / 255\n",
        "x_test = x_test.astype('float32') / 255\n",
        "\n",
        "from keras.utils import to_categorical\n",
        "y_train = to_categorical(y_train_)\n",
        "y_test = to_categorical(y_test_)\n",
        "\n",
        "\"\"\"## Model Definition\"\"\"\n",
        "\n",
        "from keras.models import Sequential\n",
        "model = Sequential()\n",
        "\n",
        "from keras.layers import Conv2D, MaxPool2D, Flatten, Dense\n",
        "\n",
        "model.add(Conv2D(filters=32, \n",
        "                kernel_size=(3, 3),\n",
        "                activation='relu',\n",
        "                input_shape=(32, 32, 3)))\n",
        "\n",
        "model.add(MaxPool2D())\n",
        "\n",
        "model.add(Conv2D(filters=64,\n",
        "                kernel_size=(3, 3),\n",
        "                activation='relu'))\n",
        "model.add(MaxPool2D())\n",
        "\n",
        "model.add(Flatten())\n",
        "model.add(Dense(10, activation='softmax'))\n",
        "\n",
        "model.compile(optimizer='adam',\n",
        "             loss='categorical_crossentropy',\n",
        "             metrics=['accuracy'])\n",
        "\n",
        "print(model.summary())\n",
        "\n",
        "\"\"\"## Fitting\"\"\"\n",
        "\n",
        "history = model.fit(x_train, y_train, batch_size=50, epochs=15, verbose=1, validation_data=(x_test, y_test))\n",
        "\n",
        "import matplotlib.pyplot as plt\n",
        "\n",
        "history_dict = history.history\n",
        "loss_values = history_dict['loss']\n",
        "val_loss_values = history_dict['val_loss']\n",
        "\n",
        "epochs = range(1, len(history_dict['accuracy']) + 1)\n",
        "\n",
        "plt.plot(epochs, loss_values, 'bo', label='Training loss')\n",
        "plt.plot(epochs, val_loss_values, 'b', label='Validation loss')\n",
        "plt.title('Training and validation loss')\n",
        "plt.xlabel('Epochs')\n",
        "plt.ylabel('Loss')\n",
        "plt.legend()\n",
        "\n",
        "plt.show()"
      ],
      "execution_count": 1,
      "outputs": [
        {
          "output_type": "stream",
          "text": [
            "Using TensorFlow backend.\n"
          ],
          "name": "stderr"
        },
        {
          "output_type": "stream",
          "text": [
            "Downloading data from https://www.cs.toronto.edu/~kriz/cifar-10-python.tar.gz\n",
            "170500096/170498071 [==============================] - 11s 0us/step\n",
            "Model: \"sequential_1\"\n",
            "_________________________________________________________________\n",
            "Layer (type)                 Output Shape              Param #   \n",
            "=================================================================\n",
            "conv2d_1 (Conv2D)            (None, 30, 30, 32)        896       \n",
            "_________________________________________________________________\n",
            "max_pooling2d_1 (MaxPooling2 (None, 15, 15, 32)        0         \n",
            "_________________________________________________________________\n",
            "conv2d_2 (Conv2D)            (None, 13, 13, 64)        18496     \n",
            "_________________________________________________________________\n",
            "max_pooling2d_2 (MaxPooling2 (None, 6, 6, 64)          0         \n",
            "_________________________________________________________________\n",
            "flatten_1 (Flatten)          (None, 2304)              0         \n",
            "_________________________________________________________________\n",
            "dense_1 (Dense)              (None, 10)                23050     \n",
            "=================================================================\n",
            "Total params: 42,442\n",
            "Trainable params: 42,442\n",
            "Non-trainable params: 0\n",
            "_________________________________________________________________\n",
            "None\n",
            "Train on 50000 samples, validate on 10000 samples\n",
            "Epoch 1/15\n",
            "50000/50000 [==============================] - 58s 1ms/step - loss: 1.5270 - accuracy: 0.4567 - val_loss: 1.2906 - val_accuracy: 0.5489\n",
            "Epoch 2/15\n",
            "50000/50000 [==============================] - 58s 1ms/step - loss: 1.1995 - accuracy: 0.5813 - val_loss: 1.1609 - val_accuracy: 0.5958\n",
            "Epoch 3/15\n",
            "50000/50000 [==============================] - 58s 1ms/step - loss: 1.0663 - accuracy: 0.6301 - val_loss: 1.0417 - val_accuracy: 0.6385\n",
            "Epoch 4/15\n",
            "50000/50000 [==============================] - 57s 1ms/step - loss: 0.9842 - accuracy: 0.6621 - val_loss: 1.0132 - val_accuracy: 0.6453\n",
            "Epoch 5/15\n",
            "50000/50000 [==============================] - 57s 1ms/step - loss: 0.9248 - accuracy: 0.6824 - val_loss: 0.9674 - val_accuracy: 0.6645\n",
            "Epoch 6/15\n",
            "50000/50000 [==============================] - 57s 1ms/step - loss: 0.8809 - accuracy: 0.6966 - val_loss: 0.9168 - val_accuracy: 0.6889\n",
            "Epoch 7/15\n",
            "50000/50000 [==============================] - 57s 1ms/step - loss: 0.8417 - accuracy: 0.7111 - val_loss: 0.9151 - val_accuracy: 0.6891\n",
            "Epoch 8/15\n",
            "50000/50000 [==============================] - 57s 1ms/step - loss: 0.8106 - accuracy: 0.7213 - val_loss: 0.9555 - val_accuracy: 0.6696\n",
            "Epoch 9/15\n",
            "50000/50000 [==============================] - 57s 1ms/step - loss: 0.7798 - accuracy: 0.7326 - val_loss: 0.8882 - val_accuracy: 0.6979\n",
            "Epoch 10/15\n",
            "50000/50000 [==============================] - 57s 1ms/step - loss: 0.7552 - accuracy: 0.7406 - val_loss: 0.8778 - val_accuracy: 0.7058\n",
            "Epoch 11/15\n",
            "50000/50000 [==============================] - 56s 1ms/step - loss: 0.7391 - accuracy: 0.7467 - val_loss: 0.9037 - val_accuracy: 0.6920\n",
            "Epoch 12/15\n",
            "50000/50000 [==============================] - 57s 1ms/step - loss: 0.7180 - accuracy: 0.7537 - val_loss: 0.8788 - val_accuracy: 0.7055\n",
            "Epoch 13/15\n",
            "50000/50000 [==============================] - 57s 1ms/step - loss: 0.6954 - accuracy: 0.7622 - val_loss: 0.8934 - val_accuracy: 0.6956\n",
            "Epoch 14/15\n",
            "50000/50000 [==============================] - 57s 1ms/step - loss: 0.6807 - accuracy: 0.7656 - val_loss: 0.9102 - val_accuracy: 0.7002\n",
            "Epoch 15/15\n",
            "50000/50000 [==============================] - 56s 1ms/step - loss: 0.6610 - accuracy: 0.7736 - val_loss: 0.8743 - val_accuracy: 0.7125\n"
          ],
          "name": "stdout"
        },
        {
          "output_type": "display_data",
          "data": {
            "image/png": "[encoded data removed]",
            "text/plain": [
              "<Figure size 432x288 with 1 Axes>"
            ]
          },
          "metadata": {
            "tags": [],
            "needs_background": "light"
          }
        }
      ]
    }
  ]
}